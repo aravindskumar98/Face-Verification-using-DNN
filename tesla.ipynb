{
 "cells": [
  {
   "cell_type": "code",
   "execution_count": 67,
   "id": "dbdd5ef5",
   "metadata": {},
   "outputs": [
    {
     "data": {
      "image/png": "[encoded data removed]",
      "text/plain": [
       "<Figure size 432x288 with 1 Axes>"
      ]
     },
     "metadata": {
      "needs_background": "light"
     },
     "output_type": "display_data"
    }
   ],
   "source": [
    "# -*- coding: utf-8 -*-\n",
    "\"\"\"\n",
    "Created on Fri Apr 15 14:46:56 2022\n",
    "\n",
    "@author: Saicharan\n",
    "\"\"\"\n",
    "import numpy as np\n",
    "import sys\n",
    "import matplotlib.pyplot as plt\n",
    "from sklearn.linear_model import LinearRegression\n",
    "from sklearn.linear_model import Ridge\n",
    "\n",
    "def search(x,y,a1,b1,a2,b2):\n",
    "    \n",
    "    l = 360\n",
    "    r = 1080\n",
    "    \n",
    "    while l < r:\n",
    "        mid = l + (r-l)//2\n",
    "        \n",
    "        eLeft = np.sum((y[:mid] - a1*x[:mid] - b1 - np.random.normal(0, 0.01, size=len(x[:mid])))**2)\n",
    "        eRight = np.sum((y[mid+1:] - a2*x[mid+1:] - b2 - np.random.normal(0, 0.01, size=len(x[mid+1:])))**2)\n",
    "        \n",
    "        if eLeft > eRight:\n",
    "            l = mid+1\n",
    "        else:\n",
    "            r = mid-1\n",
    "            \n",
    "    return l\n",
    "\n",
    "def regime_change(file_name):\n",
    "    \n",
    "    #Load x, y from data file\n",
    "    x,y = np.loadtxt(file_name, unpack=True)\n",
    "    x_data=np.array(x[:360]).reshape(-1,1)\n",
    "    y_data=np.array(y[:360]).reshape(-1,1)\n",
    "\n",
    "    reg = LinearRegression().fit(x_data, y_data)\n",
    "    coeff1= reg.coef_\n",
    "    intercept1 =reg.intercept_\n",
    "\n",
    "    \n",
    "    x_data1=np.array(x[-360:]).reshape(-1,1)\n",
    "    y_data1=np.array(y[-360:]).reshape(-1,1)\n",
    "\n",
    "    reg = LinearRegression().fit(x_data1, y_data1)\n",
    "    coeff2= reg.coef_\n",
    "    intercept2 =reg.intercept_\n",
    "    a1=coeff1[0][0]\n",
    "    a2=coeff2[0][0]\n",
    "    b1=intercept1[0]\n",
    "    b2=intercept1[0]\n",
    "    #Find xc, yc\n",
    "    \n",
    "    \n",
    "    xc = (b2 - b1)/(a2 - a1)\n",
    "    yc = a1*xc + b1\n",
    "    \n",
    "    change_minute = np.abs(x - xc).argmin()\n",
    "    \n",
    "    plt.figure()\n",
    "    plt.plot(x,y)\n",
    "    plt.plot(x, a1*x + b1)\n",
    "    plt.plot(x, a2*x + b2)\n",
    "    plt.show()\n",
    "    \n",
    "    return change_minute, xc, yc\n",
    "\n",
    "\n",
    "# if __name__ == '__main__':\n",
    "c, xc, yc = regime_change('./examples/xy-0.01-1.dat')"
   ]
  },
  {
   "cell_type": "code",
   "execution_count": 49,
   "id": "d105de53",
   "metadata": {},
   "outputs": [
    {
     "name": "stdout",
     "output_type": "stream",
     "text": [
      "117\n"
     ]
    }
   ],
   "source": [
    "print(c)"
   ]
  },
  {
   "cell_type": "code",
   "execution_count": 75,
   "id": "a1d9692a",
   "metadata": {},
   "outputs": [
    {
     "name": "stdout",
     "output_type": "stream",
     "text": [
      "0 1035\n",
      "1 738\n",
      "2 979\n",
      "3 1079\n"
     ]
    }
   ],
   "source": [
    "\n",
    "filename_dummy = './examples/xy-0.5-'\n",
    "for j in range(4):\n",
    "    x,y = np.loadtxt(filename_dummy+str(j)+'.dat', unpack=True)\n",
    "    \n",
    "    x_data=np.array(x[:360]).reshape(-1,1)\n",
    "    y_data=np.array(y[:360]).reshape(-1,1)\n",
    "    reg = LinearRegression().fit(x_data, y_data)\n",
    "    coeff1= reg.coef_\n",
    "    intercept1 =reg.intercept_\n",
    "\n",
    "\n",
    "    x_data1=np.array(x[-360:]).reshape(-1,1)\n",
    "    y_data1=np.array(y[-360:]).reshape(-1,1)\n",
    "\n",
    "    reg = LinearRegression().fit(x_data1, y_data1)\n",
    "    coeff2= reg.coef_\n",
    "    intercept2 =reg.intercept_\n",
    "    a1=coeff1[0][0]\n",
    "    a2=coeff2[0][0]\n",
    "    b1=intercept1[0]\n",
    "    b2=intercept1[0]\n",
    "\n",
    "    from sklearn.metrics import mean_squared_error as mse\n",
    "    minV = float('inf')\n",
    "    errVal = []\n",
    "    minIndex = -1;\n",
    "    for i in range(361,1080):\n",
    "        left_data = x[:i]\n",
    "        right_data = x[i+1:]\n",
    "        leftfit = a1*left_data+b1;\n",
    "        rightfit = a2*right_data+b2;\n",
    "        error = mse(y[:i],leftfit)+ mse(y[i+1:],rightfit)\n",
    "        errVal.append(error)\n",
    "        if error < minV:\n",
    "            minV = error\n",
    "            minIndex = i\n",
    "\n",
    "    print(j,minIndex)\n"
   ]
  },
  {
   "cell_type": "code",
   "execution_count": 82,
   "id": "021bd254",
   "metadata": {},
   "outputs": [
    {
     "name": "stdout",
     "output_type": "stream",
     "text": [
      "0 1035\n",
      "1 738\n",
      "2 1016\n",
      "3 1070\n"
     ]
    },
    {
     "data": {
      "image/png": "[encoded data removed]",
      "text/plain": [
       "<Figure size 432x288 with 4 Axes>"
      ]
     },
     "metadata": {
      "needs_background": "light"
     },
     "output_type": "display_data"
    }
   ],
   "source": [
    "import matplotlib.pyplot as plt\n",
    "\n",
    "plt.figure()\n",
    "filename_dummy = './examples/xy-0.5-'\n",
    "for j in range(4):\n",
    "    x,y = np.loadtxt(filename_dummy+str(j)+'.dat', unpack=True)\n",
    "    name = filename_dummy+str(j)+'.dat';\n",
    "    listName = name.split('-')\n",
    "    stddev = float(listName[1])    \n",
    "    x_data=np.array(x[:360]).reshape(-1,1)\n",
    "    y_data=np.array(y[:360]).reshape(-1,1)\n",
    "    clf1 = Ridge(alpha=360*stddev*stddev)\n",
    "    clf1.fit(x_data, y_data)\n",
    "\n",
    "    x_data1=np.array(x[-360:]).reshape(-1,1)\n",
    "    y_data1=np.array(y[-360:]).reshape(-1,1)\n",
    "\n",
    "    clf2 = Ridge(alpha=360*stddev*stddev)\n",
    "    clf2.fit(x_data1, y_data1)\n",
    "    \n",
    "    \n",
    "    from sklearn.metrics import mean_squared_error as mse\n",
    "    minV = float('inf')\n",
    "    errVal = []\n",
    "    minIndex = -1;\n",
    "    for i in range(361,1078):\n",
    "        left_data = x[:i].reshape(-1,1)\n",
    "        right_data = x[i+1:].reshape(-1,1)\n",
    "        leftfit = clf1.predict(left_data)\n",
    "        rightfit = clf2.predict(right_data)\n",
    "        error = mse(y[:i],leftfit)+ mse(y[i+1:],rightfit)\n",
    "        errVal.append(error)\n",
    "        if error < minV:\n",
    "            minV = error\n",
    "            minIndex = i\n",
    "    \n",
    "    print(j,minIndex)\n",
    "    plt.subplot(2,2,j+1)\n",
    "    plt.plot(errVal)\n",
    "        \n",
    "    "
   ]
  },
  {
   "cell_type": "code",
   "execution_count": 63,
   "id": "186df1ab",
   "metadata": {},
   "outputs": [
    {
     "data": {
      "text/plain": [
       "671"
      ]
     },
     "execution_count": 63,
     "metadata": {},
     "output_type": "execute_result"
    }
   ],
   "source": [
    "minIndex"
   ]
  },
  {
   "cell_type": "code",
   "execution_count": null,
   "id": "34e511e2",
   "metadata": {},
   "outputs": [],
   "source": []
  }
 ],
 "metadata": {
  "kernelspec": {
   "display_name": "Python 3 (ipykernel)",
   "language": "python",
   "name": "python3"
  },
  "language_info": {
   "codemirror_mode": {
    "name": "ipython",
    "version": 3
   },
   "file_extension": ".py",
   "mimetype": "text/x-python",
   "name": "python",
   "nbconvert_exporter": "python",
   "pygments_lexer": "ipython3",
   "version": "3.9.7"
  }
 },
 "nbformat": 4,
 "nbformat_minor": 5
}
