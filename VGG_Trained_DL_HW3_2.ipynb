{
  "nbformat": 4,
  "nbformat_minor": 0,
  "metadata": {
    "colab": {
      "name": "VGG Trained DL_HW3_2.ipynb",
      "provenance": [],
      "collapsed_sections": [],
      "machine_shape": "hm"
    },
    "kernelspec": {
      "name": "python3",
      "display_name": "Python 3"
    },
    "language_info": {
      "name": "python"
    },
    "accelerator": "GPU",
    "widgets": {
      "application/vnd.jupyter.widget-state+json": {
        "a394c9e8df6a408eb586e5cd169ab2a5": {
          "model_module": "@jupyter-widgets/controls",
          "model_name": "HBoxModel",
          "model_module_version": "1.5.0",
          "state": {
            "_dom_classes": [],
            "_model_module": "@jupyter-widgets/controls",
            "_model_module_version": "1.5.0",
            "_model_name": "HBoxModel",
            "_view_count": null,
            "_view_module": "@jupyter-widgets/controls",
            "_view_module_version": "1.5.0",
            "_view_name": "HBoxView",
            "box_style": "",
            "children": [
              "IPY_MODEL_55f3ab6930aa4e138fdd0ee4f812ca6e",
              "IPY_MODEL_bc954cf8e4fd4c7c8224287016d2dc4e",
              "IPY_MODEL_cca6f71bf24143d39a611851501f3e36"
            ],
            "layout": "IPY_MODEL_5c227818f9d145dd8ce09702255e619f"
          }
        },
        "55f3ab6930aa4e138fdd0ee4f812ca6e": {
          "model_module": "@jupyter-widgets/controls",
          "model_name": "HTMLModel",
          "model_module_version": "1.5.0",
          "state": {
            "_dom_classes": [],
            "_model_module": "@jupyter-widgets/controls",
            "_model_module_version": "1.5.0",
            "_model_name": "HTMLModel",
            "_view_count": null,
            "_view_module": "@jupyter-widgets/controls",
            "_view_module_version": "1.5.0",
            "_view_name": "HTMLView",
            "description": "",
            "description_tooltip": null,
            "layout": "IPY_MODEL_9ed1cb2841514599948050c4af614f30",
            "placeholder": "​",
            "style": "IPY_MODEL_a9e01fb661394aff9f2b7fd369b2a0ad",
            "value": "100%"
          }
        },
        "bc954cf8e4fd4c7c8224287016d2dc4e": {
          "model_module": "@jupyter-widgets/controls",
          "model_name": "FloatProgressModel",
          "model_module_version": "1.5.0",
          "state": {
            "_dom_classes": [],
            "_model_module": "@jupyter-widgets/controls",
            "_model_module_version": "1.5.0",
            "_model_name": "FloatProgressModel",
            "_view_count": null,
            "_view_module": "@jupyter-widgets/controls",
            "_view_module_version": "1.5.0",
            "_view_name": "ProgressView",
            "bar_style": "success",
            "description": "",
            "description_tooltip": null,
            "layout": "IPY_MODEL_4e3eb87c44d8490a9ac4f317352645de",
            "max": 553433881,
            "min": 0,
            "orientation": "horizontal",
            "style": "IPY_MODEL_aef984a39371498aa9cc895852442a35",
            "value": 553433881
          }
        },
        "cca6f71bf24143d39a611851501f3e36": {
          "model_module": "@jupyter-widgets/controls",
          "model_name": "HTMLModel",
          "model_module_version": "1.5.0",
          "state": {
            "_dom_classes": [],
            "_model_module": "@jupyter-widgets/controls",
            "_model_module_version": "1.5.0",
            "_model_name": "HTMLModel",
            "_view_count": null,
            "_view_module": "@jupyter-widgets/controls",
            "_view_module_version": "1.5.0",
            "_view_name": "HTMLView",
            "description": "",
            "description_tooltip": null,
            "layout": "IPY_MODEL_b0d10d46f17841eba776be95613815c1",
            "placeholder": "​",
            "style": "IPY_MODEL_48b09ca728fb4921973302aeaa5f92ee",
            "value": " 528M/528M [00:03&lt;00:00, 201MB/s]"
          }
        },
        "5c227818f9d145dd8ce09702255e619f": {
          "model_module": "@jupyter-widgets/base",
          "model_name": "LayoutModel",
          "model_module_version": "1.2.0",
          "state": {
            "_model_module": "@jupyter-widgets/base",
            "_model_module_version": "1.2.0",
            "_model_name": "LayoutModel",
            "_view_count": null,
            "_view_module": "@jupyter-widgets/base",
            "_view_module_version": "1.2.0",
            "_view_name": "LayoutView",
            "align_content": null,
            "align_items": null,
            "align_self": null,
            "border": null,
            "bottom": null,
            "display": null,
            "flex": null,
            "flex_flow": null,
            "grid_area": null,
            "grid_auto_columns": null,
            "grid_auto_flow": null,
            "grid_auto_rows": null,
            "grid_column": null,
            "grid_gap": null,
            "grid_row": null,
            "grid_template_areas": null,
            "grid_template_columns": null,
            "grid_template_rows": null,
            "height": null,
            "justify_content": null,
            "justify_items": null,
            "left": null,
            "margin": null,
            "max_height": null,
            "max_width": null,
            "min_height": null,
            "min_width": null,
            "object_fit": null,
            "object_position": null,
            "order": null,
            "overflow": null,
            "overflow_x": null,
            "overflow_y": null,
            "padding": null,
            "right": null,
            "top": null,
            "visibility": null,
            "width": null
          }
        },
        "9ed1cb2841514599948050c4af614f30": {
          "model_module": "@jupyter-widgets/base",
          "model_name": "LayoutModel",
          "model_module_version": "1.2.0",
          "state": {
            "_model_module": "@jupyter-widgets/base",
            "_model_module_version": "1.2.0",
            "_model_name": "LayoutModel",
            "_view_count": null,
            "_view_module": "@jupyter-widgets/base",
            "_view_module_version": "1.2.0",
            "_view_name": "LayoutView",
            "align_content": null,
            "align_items": null,
            "align_self": null,
            "border": null,
            "bottom": null,
            "display": null,
            "flex": null,
            "flex_flow": null,
            "grid_area": null,
            "grid_auto_columns": null,
            "grid_auto_flow": null,
            "grid_auto_rows": null,
            "grid_column": null,
            "grid_gap": null,
            "grid_row": null,
            "grid_template_areas": null,
            "grid_template_columns": null,
            "grid_template_rows": null,
            "height": null,
            "justify_content": null,
            "justify_items": null,
            "left": null,
            "margin": null,
            "max_height": null,
            "max_width": null,
            "min_height": null,
            "min_width": null,
            "object_fit": null,
            "object_position": null,
            "order": null,
            "overflow": null,
            "overflow_x": null,
            "overflow_y": null,
            "padding": null,
            "right": null,
            "top": null,
            "visibility": null,
            "width": null
          }
        },
        "a9e01fb661394aff9f2b7fd369b2a0ad": {
          "model_module": "@jupyter-widgets/controls",
          "model_name": "DescriptionStyleModel",
          "model_module_version": "1.5.0",
          "state": {
            "_model_module": "@jupyter-widgets/controls",
            "_model_module_version": "1.5.0",
            "_model_name": "DescriptionStyleModel",
            "_view_count": null,
            "_view_module": "@jupyter-widgets/base",
            "_view_module_version": "1.2.0",
            "_view_name": "StyleView",
            "description_width": ""
          }
        },
        "4e3eb87c44d8490a9ac4f317352645de": {
          "model_module": "@jupyter-widgets/base",
          "model_name": "LayoutModel",
          "model_module_version": "1.2.0",
          "state": {
            "_model_module": "@jupyter-widgets/base",
            "_model_module_version": "1.2.0",
            "_model_name": "LayoutModel",
            "_view_count": null,
            "_view_module": "@jupyter-widgets/base",
            "_view_module_version": "1.2.0",
            "_view_name": "LayoutView",
            "align_content": null,
            "align_items": null,
            "align_self": null,
            "border": null,
            "bottom": null,
            "display": null,
            "flex": null,
            "flex_flow": null,
            "grid_area": null,
            "grid_auto_columns": null,
            "grid_auto_flow": null,
            "grid_auto_rows": null,
            "grid_column": null,
            "grid_gap": null,
            "grid_row": null,
            "grid_template_areas": null,
            "grid_template_columns": null,
            "grid_template_rows": null,
            "height": null,
            "justify_content": null,
            "justify_items": null,
            "left": null,
            "margin": null,
            "max_height": null,
            "max_width": null,
            "min_height": null,
            "min_width": null,
            "object_fit": null,
            "object_position": null,
            "order": null,
            "overflow": null,
            "overflow_x": null,
            "overflow_y": null,
            "padding": null,
            "right": null,
            "top": null,
            "visibility": null,
            "width": null
          }
        },
        "aef984a39371498aa9cc895852442a35": {
          "model_module": "@jupyter-widgets/controls",
          "model_name": "ProgressStyleModel",
          "model_module_version": "1.5.0",
          "state": {
            "_model_module": "@jupyter-widgets/controls",
            "_model_module_version": "1.5.0",
            "_model_name": "ProgressStyleModel",
            "_view_count": null,
            "_view_module": "@jupyter-widgets/base",
            "_view_module_version": "1.2.0",
            "_view_name": "StyleView",
            "bar_color": null,
            "description_width": ""
          }
        },
        "b0d10d46f17841eba776be95613815c1": {
          "model_module": "@jupyter-widgets/base",
          "model_name": "LayoutModel",
          "model_module_version": "1.2.0",
          "state": {
            "_model_module": "@jupyter-widgets/base",
            "_model_module_version": "1.2.0",
            "_model_name": "LayoutModel",
            "_view_count": null,
            "_view_module": "@jupyter-widgets/base",
            "_view_module_version": "1.2.0",
            "_view_name": "LayoutView",
            "align_content": null,
            "align_items": null,
            "align_self": null,
            "border": null,
            "bottom": null,
            "display": null,
            "flex": null,
            "flex_flow": null,
            "grid_area": null,
            "grid_auto_columns": null,
            "grid_auto_flow": null,
            "grid_auto_rows": null,
            "grid_column": null,
            "grid_gap": null,
            "grid_row": null,
            "grid_template_areas": null,
            "grid_template_columns": null,
            "grid_template_rows": null,
            "height": null,
            "justify_content": null,
            "justify_items": null,
            "left": null,
            "margin": null,
            "max_height": null,
            "max_width": null,
            "min_height": null,
            "min_width": null,
            "object_fit": null,
            "object_position": null,
            "order": null,
            "overflow": null,
            "overflow_x": null,
            "overflow_y": null,
            "padding": null,
            "right": null,
            "top": null,
            "visibility": null,
            "width": null
          }
        },
        "48b09ca728fb4921973302aeaa5f92ee": {
          "model_module": "@jupyter-widgets/controls",
          "model_name": "DescriptionStyleModel",
          "model_module_version": "1.5.0",
          "state": {
            "_model_module": "@jupyter-widgets/controls",
            "_model_module_version": "1.5.0",
            "_model_name": "DescriptionStyleModel",
            "_view_count": null,
            "_view_module": "@jupyter-widgets/base",
            "_view_module_version": "1.2.0",
            "_view_name": "StyleView",
            "description_width": ""
          }
        }
      }
    }
  },
  "cells": [
    {
      "cell_type": "code",
      "source": [
        "gpu_info = !nvidia-smi\n",
        "gpu_info = '\\n'.join(gpu_info)\n",
        "if gpu_info.find('failed') >= 0:\n",
        "  print('Not connected to a GPU')\n",
        "else:\n",
        "  print(gpu_info)"
      ],
      "metadata": {
        "colab": {
          "base_uri": "https://localhost:8080/"
        },
        "id": "bNR4--ngdoU0",
        "outputId": "50c22ff0-d8e7-4d06-8c4d-b05a0f11d489"
      },
      "execution_count": 1,
      "outputs": [
        {
          "output_type": "stream",
          "name": "stdout",
          "text": [
            "Tue Apr 12 02:17:04 2022       \n",
            "+-----------------------------------------------------------------------------+\n",
            "| NVIDIA-SMI 460.32.03    Driver Version: 460.32.03    CUDA Version: 11.2     |\n",
            "|-------------------------------+----------------------+----------------------+\n",
            "| GPU  Name        Persistence-M| Bus-Id        Disp.A | Volatile Uncorr. ECC |\n",
            "| Fan  Temp  Perf  Pwr:Usage/Cap|         Memory-Usage | GPU-Util  Compute M. |\n",
            "|                               |                      |               MIG M. |\n",
            "|===============================+======================+======================|\n",
            "|   0  Tesla P100-PCIE...  Off  | 00000000:00:04.0 Off |                    0 |\n",
            "| N/A   37C    P0    27W / 250W |      0MiB / 16280MiB |      0%      Default |\n",
            "|                               |                      |                  N/A |\n",
            "+-------------------------------+----------------------+----------------------+\n",
            "                                                                               \n",
            "+-----------------------------------------------------------------------------+\n",
            "| Processes:                                                                  |\n",
            "|  GPU   GI   CI        PID   Type   Process name                  GPU Memory |\n",
            "|        ID   ID                                                   Usage      |\n",
            "|=============================================================================|\n",
            "|  No running processes found                                                 |\n",
            "+-----------------------------------------------------------------------------+\n"
          ]
        }
      ]
    },
    {
      "cell_type": "code",
      "execution_count": 2,
      "metadata": {
        "id": "vNSSdL3lsGGj"
      },
      "outputs": [],
      "source": [
        "from sklearn.datasets import fetch_lfw_people, fetch_lfw_pairs\n",
        "import matplotlib.pyplot as plt\n",
        "from skimage.transform import resize\n",
        "from sklearn.metrics import roc_curve, roc_auc_score"
      ]
    },
    {
      "cell_type": "code",
      "source": [
        "import torch\n",
        "from torch import nn\n",
        "from torch.nn import functional as F\n",
        "from torch.utils.data import TensorDataset, DataLoader\n",
        "import numpy as np\n",
        "from torchvision import transforms\n"
      ],
      "metadata": {
        "id": "uthtNAZr4h02"
      },
      "execution_count": 3,
      "outputs": []
    },
    {
      "cell_type": "markdown",
      "source": [
        "Getting the Input and Target values"
      ],
      "metadata": {
        "id": "BQ61zkvvRPQc"
      }
    },
    {
      "cell_type": "code",
      "source": [
        "X = np.load(\"/content/drive/MyDrive/limitorderbook/input.npy\") #train data\n",
        "y  = np.load(\"/content/drive/MyDrive/limitorderbook/target.npy\")\n",
        "X_test = np.load(\"/content/drive/MyDrive/limitorderbook/input_test.npy\")\n",
        "y_test = np.load(\"/content/drive/MyDrive/limitorderbook/target_test.npy\")"
      ],
      "metadata": {
        "id": "eEVosja2g-G0"
      },
      "execution_count": 4,
      "outputs": []
    },
    {
      "cell_type": "markdown",
      "source": [
        "Data Exploration:"
      ],
      "metadata": {
        "id": "LpVLZHqJRTL8"
      }
    },
    {
      "cell_type": "code",
      "source": [
        "# Check shape of input\n",
        "print(\"All data shape:\", X.shape)\n",
        "print(\"First row shape:\", X[0].shape)\n",
        "print(\"First image shape:\", X[0][0].shape)"
      ],
      "metadata": {
        "colab": {
          "base_uri": "https://localhost:8080/"
        },
        "id": "YRZMMUszmhdt",
        "outputId": "b8eec628-8b81-4f1e-c325-6334f8c92928"
      },
      "execution_count": 5,
      "outputs": [
        {
          "output_type": "stream",
          "name": "stdout",
          "text": [
            "All data shape: (2200, 2, 125, 94, 3)\n",
            "First row shape: (2, 125, 94, 3)\n",
            "First image shape: (125, 94, 3)\n"
          ]
        }
      ]
    },
    {
      "cell_type": "code",
      "source": [
        "# Check target data \n",
        "print(y)"
      ],
      "metadata": {
        "colab": {
          "base_uri": "https://localhost:8080/"
        },
        "id": "8wFq3cJ7VXh7",
        "outputId": "65f688ce-1bb0-4b28-8f88-8ce981b1e146"
      },
      "execution_count": 6,
      "outputs": [
        {
          "output_type": "stream",
          "name": "stdout",
          "text": [
            "[1 1 1 ... 0 0 0]\n"
          ]
        }
      ]
    },
    {
      "cell_type": "code",
      "source": [
        "def plot_gallery(X, y, offset = 0, n_row = 10, n_col = 2):\n",
        "    j = 1\n",
        "    plt.figure(figsize =(1.8 * n_col, 2.4 * n_row))\n",
        "    plt.subplots_adjust(bottom = 0, left =.01, right =.99, top =.90, hspace =.35)\n",
        "    for i in range(1,n_row+1):\n",
        "      plt.subplot(n_row, n_col, j)\n",
        "      j+=1\n",
        "      plt.imshow(X[i+offset][0]/255)\n",
        "      plt.title(\"matched\" if y[i+offset] else \"mismatched\")\n",
        "\n",
        "      plt.subplot(n_row, n_col, j)\n",
        "      j+=1\n",
        "      plt.imshow(X[i+offset][1]/255)"
      ],
      "metadata": {
        "id": "wlVbuWrxSySs"
      },
      "execution_count": 7,
      "outputs": []
    },
    {
      "cell_type": "markdown",
      "source": [
        "In this script, since each data point has two images variables ending with 1 and 2 correspond to first image and second image"
      ],
      "metadata": {
        "id": "8nYNuQoHbKuc"
      }
    },
    {
      "cell_type": "code",
      "source": [
        "plot_gallery(X,y,1097, 4)"
      ],
      "metadata": {
        "colab": {
          "base_uri": "https://localhost:8080/",
          "height": 686
        },
        "id": "9zOj_1chS0HL",
        "outputId": "d6b32b21-f1b9-4ab6-dd71-346780c9d66a"
      },
      "execution_count": 8,
      "outputs": [
        {
          "output_type": "display_data",
          "data": {
            "text/plain": [
              "<Figure size 259.2x691.2 with 8 Axes>"
            ],
            "image/png": "[encoded data removed]"
          },
          "metadata": {
            "needs_background": "light"
          }
        }
      ]
    },
    {
      "cell_type": "code",
      "source": [
        "def rescaler(X,size,index):\n",
        "  X_n = [] \n",
        "  for i in range(len(X)):\n",
        "    img1 = resize(X[i][index]/255,(size,size))\n",
        "    X_n.append(img1.T)\n",
        "  X_n = np.array(X_n)\n",
        "  return X_n"
      ],
      "metadata": {
        "id": "rvI7VaK7bGI_"
      },
      "execution_count": 9,
      "outputs": []
    },
    {
      "cell_type": "markdown",
      "source": [
        "Now that data is properly visualised, rescale data to fit the model input size"
      ],
      "metadata": {
        "id": "4liNbt1-3HMn"
      }
    },
    {
      "cell_type": "code",
      "source": [
        "X_n1 = rescaler(X,224,0)\n",
        "X_n2 = rescaler(X,224,1)\n",
        "X_n1_test = rescaler(X_test,224,0)\n",
        "X_n2_test = rescaler(X_test,224,1)"
      ],
      "metadata": {
        "id": "QtFAE8ri3Ftp"
      },
      "execution_count": 10,
      "outputs": []
    },
    {
      "cell_type": "code",
      "source": [
        "means=[0.485, 0.456, 0.406]\n",
        "stds=[0.229, 0.224, 0.225]"
      ],
      "metadata": {
        "id": "TnvMW1corRQw"
      },
      "execution_count": 11,
      "outputs": []
    },
    {
      "cell_type": "code",
      "source": [
        "#Normalise\n",
        "def normalise(X_n):\n",
        "  for row in range(len(X_n)):\n",
        "    for image_number in range(2):\n",
        "      for channel in range(3):\n",
        "        X_n[row][image_number][channel] = ((X_n[row][image_number][channel]-means[channel])/stds[channel]) \n",
        "  return X_n\n"
      ],
      "metadata": {
        "id": "-brOH8y-ruvV"
      },
      "execution_count": 12,
      "outputs": []
    },
    {
      "cell_type": "code",
      "source": [
        "X_n1 = normalise(X_n1)\n",
        "X_n2 = normalise(X_n2)\n",
        "X_n1_test = normalise(X_n1_test)\n",
        "X_n2_test = normalise(X_n2_test)"
      ],
      "metadata": {
        "id": "lqfQeHSrM8XP"
      },
      "execution_count": 13,
      "outputs": []
    },
    {
      "cell_type": "code",
      "source": [
        "# Convert numpy to tensors\n",
        "X_t1 = torch.from_numpy(X_n1).to(torch.float32)\n",
        "X_t2 = torch.from_numpy(X_n2).to(torch.float32)\n",
        "y_t = torch.from_numpy(y).to(torch.float32)\n",
        "\n",
        "X_t1_test = torch.from_numpy(X_n1_test).to(torch.float32)\n",
        "X_t2_test = torch.from_numpy(X_n2_test).to(torch.float32)\n",
        "y_t_test = torch.from_numpy(y_test).to(torch.float32)\n"
      ],
      "metadata": {
        "id": "TXK7B1YksRgZ"
      },
      "execution_count": 14,
      "outputs": []
    },
    {
      "cell_type": "code",
      "source": [
        "# function to normalise the inputs for vgg model\n",
        "preprocess = transforms.Compose([\n",
        "    transforms.Normalize(mean=[0.485, 0.456, 0.406], std=[0.229, 0.224, 0.225]),\n",
        "])"
      ],
      "metadata": {
        "id": "O2QGYDZIiGhr"
      },
      "execution_count": 15,
      "outputs": []
    },
    {
      "cell_type": "code",
      "source": [
        "train_dataset1 = TensorDataset(X_t1, y_t)\n",
        "train_dataset2 = TensorDataset(X_t2, y_t)\n",
        "train_dataloader1 = DataLoader(train_dataset1, batch_size=32,shuffle=False)\n",
        "train_dataloader2 = DataLoader(train_dataset2, batch_size=32,shuffle=False)\n",
        "\n",
        "test_dataset1 = TensorDataset(X_t1_test, y_t_test)\n",
        "test_dataset2 = TensorDataset(X_t2_test, y_t_test)\n",
        "test_dataloader1 = DataLoader(test_dataset1, batch_size=32,shuffle=False)\n",
        "test_dataloader2 = DataLoader(test_dataset2, batch_size=32,shuffle=False)\n",
        "\n",
        "# val_dataloader = DataLoader(val_dataset, batch_size=300)"
      ],
      "metadata": {
        "id": "Squw_-psmPDD"
      },
      "execution_count": 16,
      "outputs": []
    },
    {
      "cell_type": "code",
      "source": [
        "## Get pretrained VGG\n",
        "model = torch.hub.load('pytorch/vision:v0.10.0', 'vgg16', pretrained=True)"
      ],
      "metadata": {
        "id": "rw76tKnsnBBb",
        "colab": {
          "base_uri": "https://localhost:8080/",
          "height": 84,
          "referenced_widgets": [
            "a394c9e8df6a408eb586e5cd169ab2a5",
            "55f3ab6930aa4e138fdd0ee4f812ca6e",
            "bc954cf8e4fd4c7c8224287016d2dc4e",
            "cca6f71bf24143d39a611851501f3e36",
            "5c227818f9d145dd8ce09702255e619f",
            "9ed1cb2841514599948050c4af614f30",
            "a9e01fb661394aff9f2b7fd369b2a0ad",
            "4e3eb87c44d8490a9ac4f317352645de",
            "aef984a39371498aa9cc895852442a35",
            "b0d10d46f17841eba776be95613815c1",
            "48b09ca728fb4921973302aeaa5f92ee"
          ]
        },
        "outputId": "1da048f2-178a-40c7-ebdd-65371e7bd653"
      },
      "execution_count": 17,
      "outputs": [
        {
          "output_type": "stream",
          "name": "stderr",
          "text": [
            "Downloading: \"https://github.com/pytorch/vision/archive/v0.10.0.zip\" to /root/.cache/torch/hub/v0.10.0.zip\n",
            "Downloading: \"https://download.pytorch.org/models/vgg16-397923af.pth\" to /root/.cache/torch/hub/checkpoints/vgg16-397923af.pth\n"
          ]
        },
        {
          "output_type": "display_data",
          "data": {
            "text/plain": [
              "  0%|          | 0.00/528M [00:00<?, ?B/s]"
            ],
            "application/vnd.jupyter.widget-view+json": {
              "version_major": 2,
              "version_minor": 0,
              "model_id": "a394c9e8df6a408eb586e5cd169ab2a5"
            }
          },
          "metadata": {}
        }
      ]
    },
    {
      "cell_type": "code",
      "source": [
        "## Show layers\n",
        "model.eval()"
      ],
      "metadata": {
        "colab": {
          "base_uri": "https://localhost:8080/"
        },
        "id": "y1AVAJwSdo4A",
        "outputId": "bc923d01-9087-4059-ab24-1a9f40742f05"
      },
      "execution_count": 18,
      "outputs": [
        {
          "output_type": "execute_result",
          "data": {
            "text/plain": [
              "VGG(\n",
              "  (features): Sequential(\n",
              "    (0): Conv2d(3, 64, kernel_size=(3, 3), stride=(1, 1), padding=(1, 1))\n",
              "    (1): ReLU(inplace=True)\n",
              "    (2): Conv2d(64, 64, kernel_size=(3, 3), stride=(1, 1), padding=(1, 1))\n",
              "    (3): ReLU(inplace=True)\n",
              "    (4): MaxPool2d(kernel_size=2, stride=2, padding=0, dilation=1, ceil_mode=False)\n",
              "    (5): Conv2d(64, 128, kernel_size=(3, 3), stride=(1, 1), padding=(1, 1))\n",
              "    (6): ReLU(inplace=True)\n",
              "    (7): Conv2d(128, 128, kernel_size=(3, 3), stride=(1, 1), padding=(1, 1))\n",
              "    (8): ReLU(inplace=True)\n",
              "    (9): MaxPool2d(kernel_size=2, stride=2, padding=0, dilation=1, ceil_mode=False)\n",
              "    (10): Conv2d(128, 256, kernel_size=(3, 3), stride=(1, 1), padding=(1, 1))\n",
              "    (11): ReLU(inplace=True)\n",
              "    (12): Conv2d(256, 256, kernel_size=(3, 3), stride=(1, 1), padding=(1, 1))\n",
              "    (13): ReLU(inplace=True)\n",
              "    (14): Conv2d(256, 256, kernel_size=(3, 3), stride=(1, 1), padding=(1, 1))\n",
              "    (15): ReLU(inplace=True)\n",
              "    (16): MaxPool2d(kernel_size=2, stride=2, padding=0, dilation=1, ceil_mode=False)\n",
              "    (17): Conv2d(256, 512, kernel_size=(3, 3), stride=(1, 1), padding=(1, 1))\n",
              "    (18): ReLU(inplace=True)\n",
              "    (19): Conv2d(512, 512, kernel_size=(3, 3), stride=(1, 1), padding=(1, 1))\n",
              "    (20): ReLU(inplace=True)\n",
              "    (21): Conv2d(512, 512, kernel_size=(3, 3), stride=(1, 1), padding=(1, 1))\n",
              "    (22): ReLU(inplace=True)\n",
              "    (23): MaxPool2d(kernel_size=2, stride=2, padding=0, dilation=1, ceil_mode=False)\n",
              "    (24): Conv2d(512, 512, kernel_size=(3, 3), stride=(1, 1), padding=(1, 1))\n",
              "    (25): ReLU(inplace=True)\n",
              "    (26): Conv2d(512, 512, kernel_size=(3, 3), stride=(1, 1), padding=(1, 1))\n",
              "    (27): ReLU(inplace=True)\n",
              "    (28): Conv2d(512, 512, kernel_size=(3, 3), stride=(1, 1), padding=(1, 1))\n",
              "    (29): ReLU(inplace=True)\n",
              "    (30): MaxPool2d(kernel_size=2, stride=2, padding=0, dilation=1, ceil_mode=False)\n",
              "  )\n",
              "  (avgpool): AdaptiveAvgPool2d(output_size=(7, 7))\n",
              "  (classifier): Sequential(\n",
              "    (0): Linear(in_features=25088, out_features=4096, bias=True)\n",
              "    (1): ReLU(inplace=True)\n",
              "    (2): Dropout(p=0.5, inplace=False)\n",
              "    (3): Linear(in_features=4096, out_features=4096, bias=True)\n",
              "    (4): ReLU(inplace=True)\n",
              "    (5): Dropout(p=0.5, inplace=False)\n",
              "    (6): Linear(in_features=4096, out_features=1000, bias=True)\n",
              "  )\n",
              ")"
            ]
          },
          "metadata": {},
          "execution_count": 18
        }
      ]
    },
    {
      "cell_type": "code",
      "source": [
        "## Remove last layer\n",
        "model.classifier = nn.Sequential(*list(model.classifier.children())[:-3])\n"
      ],
      "metadata": {
        "id": "GiGYsR2leSUd"
      },
      "execution_count": 19,
      "outputs": []
    },
    {
      "cell_type": "code",
      "source": [
        "## show layers\n",
        "model.eval()"
      ],
      "metadata": {
        "colab": {
          "base_uri": "https://localhost:8080/"
        },
        "id": "h5r-Y_8CehzA",
        "outputId": "a5035eb8-8308-4f15-c493-f3e197e07331"
      },
      "execution_count": 20,
      "outputs": [
        {
          "output_type": "execute_result",
          "data": {
            "text/plain": [
              "VGG(\n",
              "  (features): Sequential(\n",
              "    (0): Conv2d(3, 64, kernel_size=(3, 3), stride=(1, 1), padding=(1, 1))\n",
              "    (1): ReLU(inplace=True)\n",
              "    (2): Conv2d(64, 64, kernel_size=(3, 3), stride=(1, 1), padding=(1, 1))\n",
              "    (3): ReLU(inplace=True)\n",
              "    (4): MaxPool2d(kernel_size=2, stride=2, padding=0, dilation=1, ceil_mode=False)\n",
              "    (5): Conv2d(64, 128, kernel_size=(3, 3), stride=(1, 1), padding=(1, 1))\n",
              "    (6): ReLU(inplace=True)\n",
              "    (7): Conv2d(128, 128, kernel_size=(3, 3), stride=(1, 1), padding=(1, 1))\n",
              "    (8): ReLU(inplace=True)\n",
              "    (9): MaxPool2d(kernel_size=2, stride=2, padding=0, dilation=1, ceil_mode=False)\n",
              "    (10): Conv2d(128, 256, kernel_size=(3, 3), stride=(1, 1), padding=(1, 1))\n",
              "    (11): ReLU(inplace=True)\n",
              "    (12): Conv2d(256, 256, kernel_size=(3, 3), stride=(1, 1), padding=(1, 1))\n",
              "    (13): ReLU(inplace=True)\n",
              "    (14): Conv2d(256, 256, kernel_size=(3, 3), stride=(1, 1), padding=(1, 1))\n",
              "    (15): ReLU(inplace=True)\n",
              "    (16): MaxPool2d(kernel_size=2, stride=2, padding=0, dilation=1, ceil_mode=False)\n",
              "    (17): Conv2d(256, 512, kernel_size=(3, 3), stride=(1, 1), padding=(1, 1))\n",
              "    (18): ReLU(inplace=True)\n",
              "    (19): Conv2d(512, 512, kernel_size=(3, 3), stride=(1, 1), padding=(1, 1))\n",
              "    (20): ReLU(inplace=True)\n",
              "    (21): Conv2d(512, 512, kernel_size=(3, 3), stride=(1, 1), padding=(1, 1))\n",
              "    (22): ReLU(inplace=True)\n",
              "    (23): MaxPool2d(kernel_size=2, stride=2, padding=0, dilation=1, ceil_mode=False)\n",
              "    (24): Conv2d(512, 512, kernel_size=(3, 3), stride=(1, 1), padding=(1, 1))\n",
              "    (25): ReLU(inplace=True)\n",
              "    (26): Conv2d(512, 512, kernel_size=(3, 3), stride=(1, 1), padding=(1, 1))\n",
              "    (27): ReLU(inplace=True)\n",
              "    (28): Conv2d(512, 512, kernel_size=(3, 3), stride=(1, 1), padding=(1, 1))\n",
              "    (29): ReLU(inplace=True)\n",
              "    (30): MaxPool2d(kernel_size=2, stride=2, padding=0, dilation=1, ceil_mode=False)\n",
              "  )\n",
              "  (avgpool): AdaptiveAvgPool2d(output_size=(7, 7))\n",
              "  (classifier): Sequential(\n",
              "    (0): Linear(in_features=25088, out_features=4096, bias=True)\n",
              "    (1): ReLU(inplace=True)\n",
              "    (2): Dropout(p=0.5, inplace=False)\n",
              "    (3): Linear(in_features=4096, out_features=4096, bias=True)\n",
              "  )\n",
              ")"
            ]
          },
          "metadata": {},
          "execution_count": 20
        }
      ]
    },
    {
      "cell_type": "code",
      "source": [
        "device = torch.device('cuda' if torch.cuda.is_available() else 'cpu')\n",
        "cos = nn.CosineSimilarity()\n",
        "model.to(device)"
      ],
      "metadata": {
        "id": "ahDrsjslvBUl",
        "colab": {
          "base_uri": "https://localhost:8080/"
        },
        "outputId": "0cfb1bd9-7e10-4dbe-ae04-deee7d6109dd"
      },
      "execution_count": 21,
      "outputs": [
        {
          "output_type": "execute_result",
          "data": {
            "text/plain": [
              "VGG(\n",
              "  (features): Sequential(\n",
              "    (0): Conv2d(3, 64, kernel_size=(3, 3), stride=(1, 1), padding=(1, 1))\n",
              "    (1): ReLU(inplace=True)\n",
              "    (2): Conv2d(64, 64, kernel_size=(3, 3), stride=(1, 1), padding=(1, 1))\n",
              "    (3): ReLU(inplace=True)\n",
              "    (4): MaxPool2d(kernel_size=2, stride=2, padding=0, dilation=1, ceil_mode=False)\n",
              "    (5): Conv2d(64, 128, kernel_size=(3, 3), stride=(1, 1), padding=(1, 1))\n",
              "    (6): ReLU(inplace=True)\n",
              "    (7): Conv2d(128, 128, kernel_size=(3, 3), stride=(1, 1), padding=(1, 1))\n",
              "    (8): ReLU(inplace=True)\n",
              "    (9): MaxPool2d(kernel_size=2, stride=2, padding=0, dilation=1, ceil_mode=False)\n",
              "    (10): Conv2d(128, 256, kernel_size=(3, 3), stride=(1, 1), padding=(1, 1))\n",
              "    (11): ReLU(inplace=True)\n",
              "    (12): Conv2d(256, 256, kernel_size=(3, 3), stride=(1, 1), padding=(1, 1))\n",
              "    (13): ReLU(inplace=True)\n",
              "    (14): Conv2d(256, 256, kernel_size=(3, 3), stride=(1, 1), padding=(1, 1))\n",
              "    (15): ReLU(inplace=True)\n",
              "    (16): MaxPool2d(kernel_size=2, stride=2, padding=0, dilation=1, ceil_mode=False)\n",
              "    (17): Conv2d(256, 512, kernel_size=(3, 3), stride=(1, 1), padding=(1, 1))\n",
              "    (18): ReLU(inplace=True)\n",
              "    (19): Conv2d(512, 512, kernel_size=(3, 3), stride=(1, 1), padding=(1, 1))\n",
              "    (20): ReLU(inplace=True)\n",
              "    (21): Conv2d(512, 512, kernel_size=(3, 3), stride=(1, 1), padding=(1, 1))\n",
              "    (22): ReLU(inplace=True)\n",
              "    (23): MaxPool2d(kernel_size=2, stride=2, padding=0, dilation=1, ceil_mode=False)\n",
              "    (24): Conv2d(512, 512, kernel_size=(3, 3), stride=(1, 1), padding=(1, 1))\n",
              "    (25): ReLU(inplace=True)\n",
              "    (26): Conv2d(512, 512, kernel_size=(3, 3), stride=(1, 1), padding=(1, 1))\n",
              "    (27): ReLU(inplace=True)\n",
              "    (28): Conv2d(512, 512, kernel_size=(3, 3), stride=(1, 1), padding=(1, 1))\n",
              "    (29): ReLU(inplace=True)\n",
              "    (30): MaxPool2d(kernel_size=2, stride=2, padding=0, dilation=1, ceil_mode=False)\n",
              "  )\n",
              "  (avgpool): AdaptiveAvgPool2d(output_size=(7, 7))\n",
              "  (classifier): Sequential(\n",
              "    (0): Linear(in_features=25088, out_features=4096, bias=True)\n",
              "    (1): ReLU(inplace=True)\n",
              "    (2): Dropout(p=0.5, inplace=False)\n",
              "    (3): Linear(in_features=4096, out_features=4096, bias=True)\n",
              "  )\n",
              ")"
            ]
          },
          "metadata": {},
          "execution_count": 21
        }
      ]
    },
    {
      "cell_type": "markdown",
      "source": [
        "# Testing without fine-tuning"
      ],
      "metadata": {
        "id": "HvstepwucpIX"
      }
    },
    {
      "cell_type": "code",
      "source": [
        "array = []\n",
        "\n",
        "## Evaluating on test data\n",
        "with torch.no_grad():\n",
        "  i = 0\n",
        "  for data1,data2 in zip(test_dataloader1,test_dataloader2):\n",
        "    images1, labels = data1\n",
        "    images2, labels = data2\n",
        "\n",
        "    images1 = images1.to(device)\n",
        "    labels = labels.to(device)\n",
        "\n",
        "    images2 = images2.to(device)\n",
        "    \n",
        "    #forward pass\n",
        "    output1 = model(images1)\n",
        "    output2 = model(images2)\n",
        "    array.append((output1,output2,labels))\n",
        "    i+=1\n",
        "    print(\"Testing.... : \", i)\n",
        "\n",
        "## Iterating through every set stored in array \n",
        "  preds = torch.tensor([])\n",
        "  labels = torch.tensor([])\n",
        "  for out1,out2,lab in array:\n",
        "    pred = cos(out1,out2)\n",
        "    pred = pred.to('cpu')\n",
        "    lab = lab.to('cpu')\n",
        "    preds = torch.cat((preds,pred),0)\n",
        "    labels = torch.cat((labels,lab),0)\n",
        "\n",
        "## Converting predictions and true labels into np arrays  \n",
        "pred_np_raw = preds.numpy()\n",
        "label_np_raw = labels.numpy()\n",
        "\n",
        "## obtaining fpr and tpr from the data\n",
        "fpr_raw,tpr_raw,thresh_raw = roc_curve(label_np_raw,pred_np_raw)\n",
        "auc_raw = roc_auc_score(label_np_raw,pred_np_raw)\n",
        "\n",
        "print(f\"Untrained AUC : {auc_raw:.2f}\")"
      ],
      "metadata": {
        "colab": {
          "base_uri": "https://localhost:8080/"
        },
        "id": "mpR2AZ5ucn_9",
        "outputId": "98aa9f91-55af-4bd1-f0a7-4002738e8c03"
      },
      "execution_count": 22,
      "outputs": [
        {
          "output_type": "stream",
          "name": "stdout",
          "text": [
            "Testing.... :  1\n",
            "Testing.... :  2\n",
            "Testing.... :  3\n",
            "Testing.... :  4\n",
            "Testing.... :  5\n",
            "Testing.... :  6\n",
            "Testing.... :  7\n",
            "Testing.... :  8\n",
            "Testing.... :  9\n",
            "Testing.... :  10\n",
            "Testing.... :  11\n",
            "Testing.... :  12\n",
            "Testing.... :  13\n",
            "Testing.... :  14\n",
            "Testing.... :  15\n",
            "Testing.... :  16\n",
            "Testing.... :  17\n",
            "Testing.... :  18\n",
            "Testing.... :  19\n",
            "Testing.... :  20\n",
            "Testing.... :  21\n",
            "Testing.... :  22\n",
            "Testing.... :  23\n",
            "Testing.... :  24\n",
            "Testing.... :  25\n",
            "Testing.... :  26\n",
            "Testing.... :  27\n",
            "Testing.... :  28\n",
            "Testing.... :  29\n",
            "Testing.... :  30\n",
            "Testing.... :  31\n",
            "Testing.... :  32\n"
          ]
        }
      ]
    },
    {
      "cell_type": "markdown",
      "source": [
        "# Fine-tuning the model"
      ],
      "metadata": {
        "id": "a-e670_EctjF"
      }
    },
    {
      "cell_type": "code",
      "source": [
        "model = model.to(device)\n",
        "learning_rate = 1e-6\n",
        "criterion = nn.BCELoss()\n",
        "optimizer = torch.optim.Adam(model.parameters(),lr = learning_rate)"
      ],
      "metadata": {
        "id": "o3wg8TH42WQG"
      },
      "execution_count": 23,
      "outputs": []
    },
    {
      "cell_type": "code",
      "source": [
        "n_total_steps = len(train_dataloader1)\n",
        "num_epochs = 30\n",
        "for epoch in range(num_epochs):\n",
        "  for i,(data1,data2) in enumerate(zip(train_dataloader1,train_dataloader2)):\n",
        "\n",
        "    images1, labels = data1\n",
        "    images2, labels = data2\n",
        "\n",
        "    images1 = images1.to(device)\n",
        "    labels = labels.to(device)\n",
        "\n",
        "    images2 = images2.to(device)\n",
        "    \n",
        "    #forward pass\n",
        "    output1 = model(images1)\n",
        "    output2 = model(images2)\n",
        "\n",
        "    cos_sim = (cos(output1,output2)+1)/2\n",
        "    loss = criterion(cos_sim,labels)\n",
        "\n",
        "    #backwar and optimize\n",
        "    optimizer.zero_grad()\n",
        "    loss.backward()\n",
        "    optimizer.step()\n",
        "\n",
        "    if (i+1)%10 ==0:\n",
        "      print(f'epoch {epoch+1}/{num_epochs}, step {i+1}/{n_total_steps}, loss = {loss.item():.4f}')\n",
        "\n",
        "print('Finished Training')\n"
      ],
      "metadata": {
        "colab": {
          "base_uri": "https://localhost:8080/"
        },
        "id": "NnLGh4Xj2WoA",
        "outputId": "9dbf4bea-e7c7-496c-e139-cc2324177d26"
      },
      "execution_count": 24,
      "outputs": [
        {
          "output_type": "stream",
          "name": "stdout",
          "text": [
            "epoch 1/30, step 10/69, loss = 0.0452\n",
            "epoch 1/30, step 20/69, loss = 0.0409\n",
            "epoch 1/30, step 30/69, loss = 0.0306\n",
            "epoch 1/30, step 40/69, loss = 3.3761\n",
            "epoch 1/30, step 50/69, loss = 2.9014\n",
            "epoch 1/30, step 60/69, loss = 2.7357\n",
            "epoch 2/30, step 10/69, loss = 0.0947\n",
            "epoch 2/30, step 20/69, loss = 0.1146\n",
            "epoch 2/30, step 30/69, loss = 0.1037\n",
            "epoch 2/30, step 40/69, loss = 2.1476\n",
            "epoch 2/30, step 50/69, loss = 1.7408\n",
            "epoch 2/30, step 60/69, loss = 1.5312\n",
            "epoch 3/30, step 10/69, loss = 0.2476\n",
            "epoch 3/30, step 20/69, loss = 0.2865\n",
            "epoch 3/30, step 30/69, loss = 0.2560\n",
            "epoch 3/30, step 40/69, loss = 1.3506\n",
            "epoch 3/30, step 50/69, loss = 1.1168\n",
            "epoch 3/30, step 60/69, loss = 1.1266\n",
            "epoch 4/30, step 10/69, loss = 0.3168\n",
            "epoch 4/30, step 20/69, loss = 0.3698\n",
            "epoch 4/30, step 30/69, loss = 0.3431\n",
            "epoch 4/30, step 40/69, loss = 1.0727\n",
            "epoch 4/30, step 50/69, loss = 0.9146\n",
            "epoch 4/30, step 60/69, loss = 0.9705\n",
            "epoch 5/30, step 10/69, loss = 0.3522\n",
            "epoch 5/30, step 20/69, loss = 0.4111\n",
            "epoch 5/30, step 30/69, loss = 0.3857\n",
            "epoch 5/30, step 40/69, loss = 0.9547\n",
            "epoch 5/30, step 50/69, loss = 0.8162\n",
            "epoch 5/30, step 60/69, loss = 0.8886\n",
            "epoch 6/30, step 10/69, loss = 0.3689\n",
            "epoch 6/30, step 20/69, loss = 0.4289\n",
            "epoch 6/30, step 30/69, loss = 0.4052\n",
            "epoch 6/30, step 40/69, loss = 0.8938\n",
            "epoch 6/30, step 50/69, loss = 0.7568\n",
            "epoch 6/30, step 60/69, loss = 0.8421\n",
            "epoch 7/30, step 10/69, loss = 0.3762\n",
            "epoch 7/30, step 20/69, loss = 0.4351\n",
            "epoch 7/30, step 30/69, loss = 0.4131\n",
            "epoch 7/30, step 40/69, loss = 0.8637\n",
            "epoch 7/30, step 50/69, loss = 0.7164\n",
            "epoch 7/30, step 60/69, loss = 0.8106\n",
            "epoch 8/30, step 10/69, loss = 0.3786\n",
            "epoch 8/30, step 20/69, loss = 0.4355\n",
            "epoch 8/30, step 30/69, loss = 0.4162\n",
            "epoch 8/30, step 40/69, loss = 0.8326\n",
            "epoch 8/30, step 50/69, loss = 0.6867\n",
            "epoch 8/30, step 60/69, loss = 0.7857\n",
            "epoch 9/30, step 10/69, loss = 0.3785\n",
            "epoch 9/30, step 20/69, loss = 0.4339\n",
            "epoch 9/30, step 30/69, loss = 0.4193\n",
            "epoch 9/30, step 40/69, loss = 0.7873\n",
            "epoch 9/30, step 50/69, loss = 0.6626\n",
            "epoch 9/30, step 60/69, loss = 0.7611\n",
            "epoch 10/30, step 10/69, loss = 0.3767\n",
            "epoch 10/30, step 20/69, loss = 0.4314\n",
            "epoch 10/30, step 30/69, loss = 0.4202\n",
            "epoch 10/30, step 40/69, loss = 0.7475\n",
            "epoch 10/30, step 50/69, loss = 0.6421\n",
            "epoch 10/30, step 60/69, loss = 0.7371\n",
            "epoch 11/30, step 10/69, loss = 0.3739\n",
            "epoch 11/30, step 20/69, loss = 0.4281\n",
            "epoch 11/30, step 30/69, loss = 0.4180\n",
            "epoch 11/30, step 40/69, loss = 0.7296\n",
            "epoch 11/30, step 50/69, loss = 0.6242\n",
            "epoch 11/30, step 60/69, loss = 0.7150\n",
            "epoch 12/30, step 10/69, loss = 0.3702\n",
            "epoch 12/30, step 20/69, loss = 0.4229\n",
            "epoch 12/30, step 30/69, loss = 0.4091\n",
            "epoch 12/30, step 40/69, loss = 0.7462\n",
            "epoch 12/30, step 50/69, loss = 0.6089\n",
            "epoch 12/30, step 60/69, loss = 0.6959\n",
            "epoch 13/30, step 10/69, loss = 0.3652\n",
            "epoch 13/30, step 20/69, loss = 0.4141\n",
            "epoch 13/30, step 30/69, loss = 0.3942\n",
            "epoch 13/30, step 40/69, loss = 0.7776\n",
            "epoch 13/30, step 50/69, loss = 0.5954\n",
            "epoch 13/30, step 60/69, loss = 0.6815\n",
            "epoch 14/30, step 10/69, loss = 0.3593\n",
            "epoch 14/30, step 20/69, loss = 0.4040\n",
            "epoch 14/30, step 30/69, loss = 0.3869\n",
            "epoch 14/30, step 40/69, loss = 0.7588\n",
            "epoch 14/30, step 50/69, loss = 0.5820\n",
            "epoch 14/30, step 60/69, loss = 0.6684\n",
            "epoch 15/30, step 10/69, loss = 0.3532\n",
            "epoch 15/30, step 20/69, loss = 0.3963\n",
            "epoch 15/30, step 30/69, loss = 0.3867\n",
            "epoch 15/30, step 40/69, loss = 0.7089\n",
            "epoch 15/30, step 50/69, loss = 0.5693\n",
            "epoch 15/30, step 60/69, loss = 0.6556\n",
            "epoch 16/30, step 10/69, loss = 0.3467\n",
            "epoch 16/30, step 20/69, loss = 0.3899\n",
            "epoch 16/30, step 30/69, loss = 0.3862\n",
            "epoch 16/30, step 40/69, loss = 0.6674\n",
            "epoch 16/30, step 50/69, loss = 0.5566\n",
            "epoch 16/30, step 60/69, loss = 0.6445\n",
            "epoch 17/30, step 10/69, loss = 0.3403\n",
            "epoch 17/30, step 20/69, loss = 0.3834\n",
            "epoch 17/30, step 30/69, loss = 0.3826\n",
            "epoch 17/30, step 40/69, loss = 0.6416\n",
            "epoch 17/30, step 50/69, loss = 0.5443\n",
            "epoch 17/30, step 60/69, loss = 0.6348\n",
            "epoch 18/30, step 10/69, loss = 0.3340\n",
            "epoch 18/30, step 20/69, loss = 0.3771\n",
            "epoch 18/30, step 30/69, loss = 0.3774\n",
            "epoch 18/30, step 40/69, loss = 0.6263\n",
            "epoch 18/30, step 50/69, loss = 0.5329\n",
            "epoch 18/30, step 60/69, loss = 0.6254\n",
            "epoch 19/30, step 10/69, loss = 0.3278\n",
            "epoch 19/30, step 20/69, loss = 0.3708\n",
            "epoch 19/30, step 30/69, loss = 0.3713\n",
            "epoch 19/30, step 40/69, loss = 0.6167\n",
            "epoch 19/30, step 50/69, loss = 0.5220\n",
            "epoch 19/30, step 60/69, loss = 0.6160\n",
            "epoch 20/30, step 10/69, loss = 0.3217\n",
            "epoch 20/30, step 20/69, loss = 0.3643\n",
            "epoch 20/30, step 30/69, loss = 0.3647\n",
            "epoch 20/30, step 40/69, loss = 0.6097\n",
            "epoch 20/30, step 50/69, loss = 0.5115\n",
            "epoch 20/30, step 60/69, loss = 0.6068\n",
            "epoch 21/30, step 10/69, loss = 0.3157\n",
            "epoch 21/30, step 20/69, loss = 0.3578\n",
            "epoch 21/30, step 30/69, loss = 0.3576\n",
            "epoch 21/30, step 40/69, loss = 0.6047\n",
            "epoch 21/30, step 50/69, loss = 0.5016\n",
            "epoch 21/30, step 60/69, loss = 0.5976\n",
            "epoch 22/30, step 10/69, loss = 0.3099\n",
            "epoch 22/30, step 20/69, loss = 0.3510\n",
            "epoch 22/30, step 30/69, loss = 0.3503\n",
            "epoch 22/30, step 40/69, loss = 0.5990\n",
            "epoch 22/30, step 50/69, loss = 0.4921\n",
            "epoch 22/30, step 60/69, loss = 0.5881\n",
            "epoch 23/30, step 10/69, loss = 0.3040\n",
            "epoch 23/30, step 20/69, loss = 0.3442\n",
            "epoch 23/30, step 30/69, loss = 0.3429\n",
            "epoch 23/30, step 40/69, loss = 0.5926\n",
            "epoch 23/30, step 50/69, loss = 0.4830\n",
            "epoch 23/30, step 60/69, loss = 0.5786\n",
            "epoch 24/30, step 10/69, loss = 0.2982\n",
            "epoch 24/30, step 20/69, loss = 0.3374\n",
            "epoch 24/30, step 30/69, loss = 0.3354\n",
            "epoch 24/30, step 40/69, loss = 0.5844\n",
            "epoch 24/30, step 50/69, loss = 0.4741\n",
            "epoch 24/30, step 60/69, loss = 0.5689\n",
            "epoch 25/30, step 10/69, loss = 0.2926\n",
            "epoch 25/30, step 20/69, loss = 0.3307\n",
            "epoch 25/30, step 30/69, loss = 0.3277\n",
            "epoch 25/30, step 40/69, loss = 0.5757\n",
            "epoch 25/30, step 50/69, loss = 0.4654\n",
            "epoch 25/30, step 60/69, loss = 0.5593\n",
            "epoch 26/30, step 10/69, loss = 0.2870\n",
            "epoch 26/30, step 20/69, loss = 0.3241\n",
            "epoch 26/30, step 30/69, loss = 0.3202\n",
            "epoch 26/30, step 40/69, loss = 0.5662\n",
            "epoch 26/30, step 50/69, loss = 0.4569\n",
            "epoch 26/30, step 60/69, loss = 0.5496\n",
            "epoch 27/30, step 10/69, loss = 0.2816\n",
            "epoch 27/30, step 20/69, loss = 0.3175\n",
            "epoch 27/30, step 30/69, loss = 0.3128\n",
            "epoch 27/30, step 40/69, loss = 0.5560\n",
            "epoch 27/30, step 50/69, loss = 0.4485\n",
            "epoch 27/30, step 60/69, loss = 0.5397\n",
            "epoch 28/30, step 10/69, loss = 0.2762\n",
            "epoch 28/30, step 20/69, loss = 0.3110\n",
            "epoch 28/30, step 30/69, loss = 0.3054\n",
            "epoch 28/30, step 40/69, loss = 0.5450\n",
            "epoch 28/30, step 50/69, loss = 0.4403\n",
            "epoch 28/30, step 60/69, loss = 0.5299\n",
            "epoch 29/30, step 10/69, loss = 0.2710\n",
            "epoch 29/30, step 20/69, loss = 0.3046\n",
            "epoch 29/30, step 30/69, loss = 0.2981\n",
            "epoch 29/30, step 40/69, loss = 0.5343\n",
            "epoch 29/30, step 50/69, loss = 0.4322\n",
            "epoch 29/30, step 60/69, loss = 0.5202\n",
            "epoch 30/30, step 10/69, loss = 0.2657\n",
            "epoch 30/30, step 20/69, loss = 0.2983\n",
            "epoch 30/30, step 30/69, loss = 0.2908\n",
            "epoch 30/30, step 40/69, loss = 0.5234\n",
            "epoch 30/30, step 50/69, loss = 0.4244\n",
            "epoch 30/30, step 60/69, loss = 0.5108\n",
            "Finished Training\n"
          ]
        }
      ]
    },
    {
      "cell_type": "code",
      "source": [
        "data_dir = \"/content/drive/MyDrive/limitorderbook/\"\n",
        "torch.save(model.state_dict(), data_dir + 'Vgg_model.pt')"
      ],
      "metadata": {
        "id": "NPJz8dQw2W2k"
      },
      "execution_count": 25,
      "outputs": []
    },
    {
      "cell_type": "markdown",
      "source": [
        "#Testing fine tuned model"
      ],
      "metadata": {
        "id": "JP1KaHL2WkJ9"
      }
    },
    {
      "cell_type": "code",
      "source": [
        "array = []\n",
        "\n",
        "## Evaluating on test data\n",
        "with torch.no_grad():\n",
        "  i = 0\n",
        "  for data1,data2 in zip(test_dataloader1,test_dataloader2):\n",
        "    images1, labels = data1\n",
        "    images2, labels = data2\n",
        "\n",
        "    images1 = images1.to(device)\n",
        "    labels = labels.to(device)\n",
        "\n",
        "    images2 = images2.to(device)\n",
        "    \n",
        "    #forward pass\n",
        "    output1 = model(images1)\n",
        "    output2 = model(images2)\n",
        "    array.append((output1,output2,labels))\n",
        "    i+=1\n",
        "    print(\"Testing.... : \", i)\n",
        "\n",
        "## Iterating through every set stored in array \n",
        "preds = torch.tensor([])\n",
        "labels = torch.tensor([])\n",
        "for out1,out2,lab in array:\n",
        "  pred = cos(out1,out2)\n",
        "  pred = pred.to('cpu')\n",
        "  lab = lab.to('cpu')\n",
        "  preds = torch.cat((preds,pred),0)\n",
        "  labels = torch.cat((labels,lab),0)\n",
        "\n",
        "## Converting predictions and true labels into np arrays  \n",
        "pred_np_ft = preds.numpy()\n",
        "label_np_ft = labels.numpy()\n",
        "\n",
        "## obtaining fpr and tpr from the data\n",
        "fpr_ft,tpr_ft,thresh_ft = roc_curve(label_np_ft,pred_np_ft)\n",
        "auc_ft = roc_auc_score(label_np_ft,pred_np_ft)"
      ],
      "metadata": {
        "colab": {
          "base_uri": "https://localhost:8080/"
        },
        "id": "D4aLe2iReDFp",
        "outputId": "f5fc6492-f923-4d11-8a1a-0b0047be6fa9"
      },
      "execution_count": 26,
      "outputs": [
        {
          "output_type": "stream",
          "name": "stdout",
          "text": [
            "Testing.... :  1\n",
            "Testing.... :  2\n",
            "Testing.... :  3\n",
            "Testing.... :  4\n",
            "Testing.... :  5\n",
            "Testing.... :  6\n",
            "Testing.... :  7\n",
            "Testing.... :  8\n",
            "Testing.... :  9\n",
            "Testing.... :  10\n",
            "Testing.... :  11\n",
            "Testing.... :  12\n",
            "Testing.... :  13\n",
            "Testing.... :  14\n",
            "Testing.... :  15\n",
            "Testing.... :  16\n",
            "Testing.... :  17\n",
            "Testing.... :  18\n",
            "Testing.... :  19\n",
            "Testing.... :  20\n",
            "Testing.... :  21\n",
            "Testing.... :  22\n",
            "Testing.... :  23\n",
            "Testing.... :  24\n",
            "Testing.... :  25\n",
            "Testing.... :  26\n",
            "Testing.... :  27\n",
            "Testing.... :  28\n",
            "Testing.... :  29\n",
            "Testing.... :  30\n",
            "Testing.... :  31\n",
            "Testing.... :  32\n"
          ]
        }
      ]
    },
    {
      "cell_type": "code",
      "source": [
        "plt.plot(fpr_raw,tpr_raw,label= f\"AUC initial={auc_raw:.3f}\")\n",
        "plt.plot(fpr_ft,tpr_ft,label = f\"AUC fine tuned ={auc_ft:.3f}\")\n",
        "plt.ylabel(\"True Positive Rate\")\n",
        "plt.xlabel(\"False Positive Rate\")\n",
        "plt.title(\"ROC Curve\")\n",
        "plt.legend(loc=\"lower right\")\n",
        "plt.show()"
      ],
      "metadata": {
        "colab": {
          "base_uri": "https://localhost:8080/",
          "height": 295
        },
        "id": "oJXuVb5yzJkW",
        "outputId": "fe0d5ae0-7bb0-4f65-8b2c-878a61f2145e"
      },
      "execution_count": 29,
      "outputs": [
        {
          "output_type": "display_data",
          "data": {
            "text/plain": [
              "<Figure size 432x288 with 1 Axes>"
            ],
            "image/png": "[encoded data removed]"
          },
          "metadata": {
            "needs_background": "light"
          }
        }
      ]
    },
    {
      "cell_type": "code",
      "source": [
        "label_np_ft = labels.numpy()\n",
        "\n",
        "## obtaining fpr and tpr from the data\n",
        "fpr_ft,tpr_ft,thresh_ft = roc_curve(label_np_ft,pred_np_ft)\n",
        "auc_ft = roc_auc_score(label_np_ft,pred_np_ft)"
      ],
      "metadata": {
        "id": "JH7wXCayPZ2U"
      },
      "execution_count": 28,
      "outputs": []
    },
    {
      "cell_type": "code",
      "source": [
        ""
      ],
      "metadata": {
        "id": "eEW2pcI7jF-y"
      },
      "execution_count": 28,
      "outputs": []
    }
  ]
}